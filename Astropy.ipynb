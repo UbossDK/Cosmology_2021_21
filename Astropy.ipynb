{
  "nbformat": 4,
  "nbformat_minor": 0,
  "metadata": {
    "colab": {
      "name": "Astropy.ipynb",
      "provenance": [],
      "authorship_tag": "ABX9TyORdYkSnoCemkmaVzevCl7t",
      "include_colab_link": true
    },
    "kernelspec": {
      "name": "python3",
      "display_name": "Python 3"
    },
    "language_info": {
      "name": "python"
    }
  },
  "cells": [
    {
      "cell_type": "markdown",
      "metadata": {
        "id": "view-in-github",
        "colab_type": "text"
      },
      "source": [
        "<a href=\"https://colab.research.google.com/github/UbossDK/Cosmology_2021_21/blob/main/Astropy.ipynb\" target=\"_parent\"><img src=\"https://colab.research.google.com/assets/colab-badge.svg\" alt=\"Open In Colab\"/></a>"
      ]
    },
    {
      "cell_type": "code",
      "execution_count": 5,
      "metadata": {
        "id": "1XI7CeuD8T1V"
      },
      "outputs": [],
      "source": [
        "from astropy import constants as const\n",
        "from astropy import units as u\n",
        "import numpy as np"
      ]
    },
    {
      "cell_type": "code",
      "source": [
        "print(const.mu0)\n",
        "print(const.c.to(\"km/h\"))"
      ],
      "metadata": {
        "colab": {
          "base_uri": "https://localhost:8080/"
        },
        "id": "c50ytslR8beo",
        "outputId": "5dfd7dab-425e-4837-c318-49e3e07c4e25"
      },
      "execution_count": 6,
      "outputs": [
        {
          "output_type": "stream",
          "name": "stdout",
          "text": [
            "  Name   = Vacuum magnetic permeability\n",
            "  Value  = 1.25663706212e-06\n",
            "  Uncertainty  = 1.9e-16\n",
            "  Unit  = N / A2\n",
            "  Reference = CODATA 2018\n",
            "1079252848.8 km / h\n"
          ]
        }
      ]
    },
    {
      "cell_type": "code",
      "source": [
        "F = (const.G * 3. * const.M_sun * 100 * u.kg) / (2.2 * u.au) ** 2\n",
        "print(F.to(u.N))"
      ],
      "metadata": {
        "colab": {
          "base_uri": "https://localhost:8080/"
        },
        "id": "rA0BOg158u7T",
        "outputId": "68094df2-b52a-40ea-93cd-59b2e2acb720"
      },
      "execution_count": 7,
      "outputs": [
        {
          "output_type": "stream",
          "name": "stdout",
          "text": [
            "0.3675671602160826 N\n"
          ]
        }
      ]
    },
    {
      "cell_type": "code",
      "source": [
        "a = np.random.rand(7)\n",
        "a *= u.m**(1) / u.s\n",
        "print(a * u.m / u.s)\n",
        "print(a[0].unit)\n",
        "\n",
        "#print(a.to(\"km/h2\"))\n",
        "print(a.to(\"km/h\"))\n",
        "\n",
        "b = a * u.minute\n",
        "print(b.decompose().to(\"m\"))\n",
        "\n",
        "british_fogg_yeet = 15.7 * u.m\n",
        "length = 2 * british_fogg_yeet\n",
        "print(length.unit)\n",
        "print(length.to(\"cm\"))\n",
        "print(length.to(\"pc\"))\n",
        "rel_length = length / (2 * u.m)\n",
        "print(\"rel_length unit:\", rel_length.unit)\n",
        "print(rel_length.decompose().unit)\n",
        "\n",
        "print((1 * u.eV).to(u.nm, equivalencies=u.spectral()))"
      ],
      "metadata": {
        "colab": {
          "base_uri": "https://localhost:8080/"
        },
        "id": "EPKwIryf9GcO",
        "outputId": "0ba3f157-261d-4d9e-8878-58cb884c10bb"
      },
      "execution_count": 29,
      "outputs": [
        {
          "output_type": "stream",
          "name": "stdout",
          "text": [
            "[0.17592961 0.79884871 0.37437153 0.06635157 0.11232322 0.44907164\n",
            " 0.21844358] m2 / s2\n",
            "m / s\n",
            "[0.6333466  2.87585537 1.34773751 0.23886566 0.40436359 1.61665791\n",
            " 0.78639689] km / h\n",
            "[10.55577664 47.93092279 22.46229189  3.98109436  6.73939309 26.94429851\n",
            " 13.10661479] m\n",
            "m\n",
            "3140.0 cm\n",
            "1.0176046968855306e-15 pc\n",
            "rel_length unit: \n",
            "\n",
            "1239.8419843320025 nm\n"
          ]
        }
      ]
    },
    {
      "cell_type": "markdown",
      "source": [
        "# Observational Exercise 3"
      ],
      "metadata": {
        "id": "z4ajHohjGeV8"
      }
    },
    {
      "cell_type": "markdown",
      "source": [
        "## Problem 1: Should H in fact be called the Lemaître Constant?"
      ],
      "metadata": {
        "id": "ToXoTDUdGlZb"
      }
    },
    {
      "cell_type": "code",
      "source": [
        ""
      ],
      "metadata": {
        "id": "XksUDSdBBuXg"
      },
      "execution_count": null,
      "outputs": []
    }
  ]
}